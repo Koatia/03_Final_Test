{
 "cells": [
  {
   "cell_type": "markdown",
   "id": "fb0bbfd92b0ce038",
   "metadata": {},
   "source": [
    "### Описание бизнес кейса\n",
    "\n",
    "Вам будут даны несколько кейсов для разных бизнесов с описанием бизнес задачи, которую\n",
    "необходимо решить:\n",
    "#### Подведите результаты эксперимента в экселе по следующим данным: ab_stats.csv - Google Диск:\n",
    "   \n",
    "Стат значимо ли отличается ARPPU в двух группах ? Какие рекомендации дадите\n",
    "менеджеру?"
   ]
  },
  {
   "metadata": {},
   "cell_type": "markdown",
   "source": [
    "Описание бизнес кейса\n",
    "\n",
    "1) Подведите результаты эксперимента в экселе по следующим данным: ab_stats.csv - Google Диск:\n",
    "Стат значимо ли отличается ARPPU в двух группах ? Какие рекомендации дадите менеджеру?\n",
    "\n",
    "2) Мы хотим провести А/Б-тест для трех источников трафика. Нынешняя конверсия равна 5%,\n",
    "мы ожидаем прирост в 0,2%. Уровень доверия 97% и уровень мощности 87%.\n",
    "Всего на наш продукт заходит 40 000 пользователей в месяц.\n",
    "\n",
    "3) За сколько дней мы сможем протестировать гипотезу? И что вы можете посоветовать по\n",
    "результатам подсчета?\n",
    "\n",
    "3.1) Допустим в задаче нет проблемы с количеством посетителей на сайт, тогда подведите\n",
    "результаты тестирования, если у нас следующие результаты по количеству конверсии:\n",
    "- 25000\n",
    "- 30000\n",
    "- 32000\n",
    "\n",
    "4) Вы решили сравнивать метрику CPA в двух группах. Размер выборки - 2350 элементов в\n",
    "каждой группе. Для проверки нормальности распределения на выборке в 2350 наблюдений применили\n",
    "критерий Шапиро-Уилка и получили p-value, равный 0.00002, alpha = 5%.\n",
    "Какой бы вывод мы могли сделать в данном случае?\n",
    "В этом случае какой статистический критерий для проверки первоначальной гипотезы тут лучше\n",
    "всего подойдёт и почему ?\n",
    "\n",
    "5) Мы провели АБ-тест на увеличение average timespent per user. По итогам тестирования мы\n",
    "получили следующие данные. Является ли результат статистически значимым с уровнем доверия 80%? Какую версию мы выкатим на продакшн?\n",
    "A) Средняя - 360, отклонение - 40, количество - 9802\n",
    "B) Средняя - 352, отклонение - 58, количество - 9789\n",
    "\n",
    "6) Создайте техническую архитектуру проекта по аб тестированию продукта он-лайн кинотеатра\n",
    "с учетом кросс-девайс аналитики по следующей гипотезе:\n",
    "Если договориться с банком о 99% кэшбэке на подписку первого месяца, то это повысит\n",
    "конверсию в подписку на 30%, благодаря упрощенному принятию решения со стороны\n",
    "пользователя.\n",
    "На схеме необходимо отобразить:\n",
    "1) Управленческий процесс по договоренностям с внешними партнерами\n",
    "2) Архитектуру данных с указанием систем, из которых будем скачивать данные\n",
    "3) Внутрикомандное взаимодействие"
   ],
   "id": "a66d59aceca2cd43"
  },
  {
   "cell_type": "code",
   "id": "3085c3f3-b0e6-4ffb-a5bc-2d850ed8ffad",
   "metadata": {
    "ExecuteTime": {
     "end_time": "2024-10-13T17:46:27.606957Z",
     "start_time": "2024-10-13T17:46:27.604018Z"
    }
   },
   "source": [
    "import numpy as np\n",
    "import pandas as pd\n",
    "from scipy import stats\n",
    "\n",
    "import matplotlib.pyplot as plt\n",
    "import seaborn as sns\n",
    "sns.set_theme()\n",
    "\n",
    "import scipy.stats as stats\n",
    "import urllib.request"
   ],
   "outputs": [],
   "execution_count": 3
  },
  {
   "cell_type": "code",
   "id": "e3791e81-46c8-4c28-b660-19c54b5d495b",
   "metadata": {
    "ExecuteTime": {
     "end_time": "2024-10-13T17:46:27.704013Z",
     "start_time": "2024-10-13T17:46:27.689547Z"
    }
   },
   "source": [
    "import pandas as pd\n",
    "\n",
    "data_path = r\"ab_stats.csv\"\n",
    "data = pd.read_csv(data_path)\n",
    "\n",
    "print(\"Размеры датасета\", data.shape)\n",
    "print(data.head(6))"
   ],
   "outputs": [
    {
     "name": "stdout",
     "output_type": "stream",
     "text": [
      "Размеры датасета (23652, 5)\n",
      "   revenue  num_purchases  purchase ab_group  av_site visit\n",
      "0      0.0              0         0        A       9.040174\n",
      "1      0.0              0         0        A       4.811628\n",
      "2      0.0              0         0        A       7.342623\n",
      "3      0.0              0         0        A       7.744581\n",
      "4      0.0              0         0        A      10.511814\n",
      "5      0.0              0         0        A       9.578727\n"
     ]
    }
   ],
   "execution_count": 4
  },
  {
   "cell_type": "code",
   "id": "4da3fc3d-f989-48c0-a0dc-8a6d0a365c07",
   "metadata": {
    "ExecuteTime": {
     "end_time": "2024-10-13T17:46:28.125952Z",
     "start_time": "2024-10-13T17:46:27.806542Z"
    }
   },
   "source": [
    "# Вычисление ARPPU для каждой записи\n",
    "data['ARPPU'] = data['revenue'] / data['num_purchases']\n",
    "\n",
    "# Удаление выбросов\n",
    "def remove_outliers(df, column, threshold=1.5):\n",
    "    q1 = df[column].quantile(0.25)\n",
    "    q3 = df[column].quantile(0.75)\n",
    "    iqr = q3 - q1\n",
    "    lower_bound = q1 - threshold * iqr\n",
    "    upper_bound = q3 + threshold * iqr\n",
    "    return df[(df[column] >= lower_bound) & (df[column] <= upper_bound)]\n",
    "\n",
    "data_clean = remove_outliers(data, 'ARPPU')\n",
    "\n",
    "# Разделение данных на две группы\n",
    "group_a = data_clean[data_clean['ab_group'] == 'A']\n",
    "group_b = data_clean[data_clean['ab_group'] == 'B']\n",
    "\n",
    "# Разделение данных по группам для ARPPU\n",
    "arppu_a = group_a['ARPPU'].dropna()\n",
    "arppu_b = group_b['ARPPU'].dropna()\n",
    "\n",
    "# Выполняем независимый t-тест для проверки значимости разницы в ARPPU между группами\n",
    "t_stat, p_value = stats.ttest_ind(arppu_a, arppu_b, equal_var=False)\n",
    "\n",
    "# Вывод результатов\n",
    "print(f\"T-статистика: {t_stat}\")\n",
    "print(f\"P-значение: {p_value}\")\n",
    "\n",
    "# Рекомендации на основе статистического анализа\n",
    "alpha = 0.05\n",
    "if p_value < alpha:\n",
    "    print(\"Разница в ARPPU между двумя группами статистически значима.\")\n",
    "    recommendation = \"Так как разница статистически значима, следует рассмотреть изменение стратегии для группы с меньшим ARPPU.\"\n",
    "else:\n",
    "    print(\"Разница в ARPPU между двумя группами не является статистически значимой.\")\n",
    "    recommendation = \"Так как разница не является статистически значимой, дополнительных изменений не требуется.\"\n",
    "\n",
    "print(f\"Рекомендация: {recommendation}\")\n",
    "\n",
    "# Визуализация данных\n",
    "plt.figure(figsize=(20, 5))\n",
    "\n",
    "# Боксплот (boxplot)\n",
    "plt.subplot(1, 3, 1)\n",
    "sns.boxplot(x='ab_group', y='ARPPU', data=data_clean)\n",
    "plt.title('Boxplot ARPPU по группам')\n",
    "plt.xlabel('Группа')\n",
    "plt.ylabel('ARPPU')\n",
    "\n",
    "plt.figure(figsize=(20, 5))\n",
    "\n",
    "# Гистограмма со сглаживанием (KDE)\n",
    "plt.subplot(1, 3, 3)\n",
    "sns.histplot(arppu_a, kde=True, color='blue', label='Group A', stat=\"density\")\n",
    "sns.histplot(arppu_b, kde=True, color='orange', label='Group B', stat=\"density\")\n",
    "plt.title('Гистограмма ARPPU с KDE по группам')\n",
    "plt.xlabel('ARPPU')\n",
    "plt.ylabel('Плотность')\n",
    "plt.legend()\n",
    "\n",
    "plt.tight_layout()\n",
    "plt.show()\n",
    "\n",
    "# Сохранение данных с результатами в Excel\n",
    "result_data = pd.DataFrame({\n",
    "    'Group': ['A', 'B'],\n",
    "    'Mean ARPPU': [arppu_a.mean(), arppu_b.mean()],\n",
    "    'T-statistic': [t_stat, t_stat],\n",
    "    'P-value': [p_value, p_value],\n",
    "    'Recommendation': [recommendation, recommendation]\n",
    "})\n",
    "\n",
    "# Сохранение в Excel\n",
    "result_data.to_excel('ab_test_results.xlsx', index=False)\n",
    "print(\"Результаты эксперимента сохранены в файл ab_test_results.xlsx\")\n"
   ],
   "outputs": [
    {
     "name": "stdout",
     "output_type": "stream",
     "text": [
      "T-статистика: 0.4444530186557162\n",
      "P-значение: 0.6569385300804972\n",
      "Разница в ARPPU между двумя группами не является статистически значимой.\n",
      "Рекомендация: Так как разница не является статистически значимой, дополнительных изменений не требуется.\n"
     ]
    },
    {
     "data": {
      "text/plain": [
       "<Figure size 2000x500 with 1 Axes>"
      ],
      "image/png": "[encoded data removed]"
     },
     "metadata": {},
     "output_type": "display_data"
    },
    {
     "data": {
      "text/plain": [
       "<Figure size 2000x500 with 1 Axes>"
      ],
      "image/png": "[encoded data removed]"
     },
     "metadata": {},
     "output_type": "display_data"
    },
    {
     "name": "stdout",
     "output_type": "stream",
     "text": [
      "Результаты эксперимента сохранены в файл ab_test_results.xlsx\n"
     ]
    }
   ],
   "execution_count": 5
  },
  {
   "cell_type": "markdown",
   "id": "49023b56-5d9d-4b72-a603-1fe656907fe0",
   "metadata": {},
   "source": [
    "#### Рекомендация менеджеру:\n",
    "\n",
    "Так как разница не является статистически значимой, дополнительных изменений не требуется."
   ]
  },
  {
   "cell_type": "markdown",
   "id": "f1cc6591bcf3ecc",
   "metadata": {},
   "source": [
    "### Описание бизнес кейса 2\n",
    "\n",
    "Мы хотим провести А/Б-тест для трех источников трафика. Нынешняя конверсия равна 5%,\n",
    "мы ожидаем прирост в 0,2%.\n",
    "Уровень доверия 97% и уровень мощности 87%.\n",
    "Всего на наш продукт заходит 40 000 пользователей в месяц.\n"
   ]
  },
  {
   "cell_type": "markdown",
   "id": "9528b426-721e-4952-ba37-806cbc239bbd",
   "metadata": {},
   "source": [
    "#### За сколько дней мы сможем протестировать гипотезу? И что вы можете посоветовать по результатам подсчета?"
   ]
  },
  {
   "cell_type": "code",
   "id": "3256d965-d1eb-4d41-88b9-89bf039d2e3c",
   "metadata": {
    "ExecuteTime": {
     "end_time": "2024-10-13T17:46:28.145005Z",
     "start_time": "2024-10-13T17:46:28.140868Z"
    }
   },
   "source": [
    "import math\n",
    "from scipy.stats import norm\n",
    "\n",
    "# Исходные данные\n",
    "conversion_rate = 0.05  # Нынешняя конверсия (5%)\n",
    "expected_increase = 0.002  # Ожидаемый прирост (0.2%)\n",
    "p1 = conversion_rate\n",
    "p2 = p1 + expected_increase\n",
    "\n",
    "alpha = 0.03  # Уровень значимости (1 - уровень доверия)\n",
    "beta = 1 - 0.87  # Уровень мощности\n",
    "z_alpha = norm.ppf(1 - alpha / 2)\n",
    "z_beta = norm.ppf(1 - beta)\n",
    "\n",
    "# Стандартное отклонение\n",
    "std1 = math.sqrt(p1 * (1 - p1))\n",
    "std2 = math.sqrt(p2 * (1 - p2))\n",
    "\n",
    "# Размер выборки n\n",
    "n = ((std1 * math.sqrt(2) * z_alpha + std2 * z_beta) / (p2 - p1)) ** 2\n",
    "\n",
    "# Количество пользователей\n",
    "total_users_per_month = 40000\n",
    "users_per_day = total_users_per_month / 30\n",
    "\n",
    "# Три источника трафика\n",
    "users_per_source_per_day = users_per_day / 3\n",
    "\n",
    "# Количество дней для теста\n",
    "days_needed = n / users_per_source_per_day\n",
    "\n",
    "print(f\"Необходимое количество выборки на каждую группу: {int(n)}\")\n",
    "print(f\"Необходимое количество дней для проведения теста: {math.ceil(days_needed)} дней\")\n"
   ],
   "outputs": [
    {
     "name": "stdout",
     "output_type": "stream",
     "text": [
      "Необходимое количество выборки на каждую группу: 211120\n",
      "Необходимое количество дней для проведения теста: 476 дней\n"
     ]
    }
   ],
   "execution_count": 6
  },
  {
   "cell_type": "markdown",
   "id": "f98ede02-a7ff-4e12-8a13-48918b1b1c92",
   "metadata": {},
   "source": [
    "#### Посоветовать по результатам подсчета можно следущее:\n",
    "\n",
    "1. Планирование теста:\n",
    "   - Убедитесь, что на тест будет выделено достаточное количество времени для получения необходимых данных.\n",
    "   - На всякий случай запланируйте дополнительное время для обработки и анализа результатов.\n",
    "\n",
    "2. Регулярный мониторинг:\n",
    "   - Периодически отслеживайте прогресс теста, чтобы убедиться, что нет аномалий или неожиданных событий, которые могут повлиять на результаты.\n",
    "\n",
    "3. Анализ данных:\n",
    "   - После окончания теста тщательно проанализируйте собранные данные.\n",
    "   - Следуйте заранее определенному плану анализа, чтобы избежать предвзятости.\n",
    "\n",
    "4. Статистическая значимость:\n",
    "   - Убедитесь, что полученные результаты обладают необходимой статистической значимостью и поддерживают или опровергают исходную гипотезу.\n",
    "\n",
    "5. Интерпретация результатов:\n",
    "   - Основываясь на результатах теста, примите решения по поводу дальнейших действий (например, изменение стратегии трафика, корректировка маркетинговых кампаний и т.д).\n",
    "\n",
    "Этот процесс обеспечит, что тест будет проведен правильно и даст достоверные результаты для принятия решений."
   ]
  },
  {
   "cell_type": "markdown",
   "id": "b0bdaf1a-8bad-46cd-a7ba-210bff185fd8",
   "metadata": {},
   "source": [
    "#### Допустим в задаче нет проблемы с количеством посетителей на сайт, тогда подведите результаты тестирования, если у нас следующие результаты по количеству конверсии:\n",
    "1) 25 000\n",
    "2) 30 000\n",
    "3) 32 000"
   ]
  },
  {
   "cell_type": "code",
   "id": "c838a8eb-3683-45c6-8f29-940ffde6ef04",
   "metadata": {
    "ExecuteTime": {
     "end_time": "2024-10-13T17:46:28.195016Z",
     "start_time": "2024-10-13T17:46:28.189119Z"
    }
   },
   "source": [
    "# Исходные данные\n",
    "current_conversion_rate = 0.05  # Нынешняя конверсия (5%)\n",
    "expected_increase = 0.002  # Ожидаемый прирост (0.2%)\n",
    "alpha = 0.03  # Уровень значимости (1 - уровень доверия)\n",
    "power = 0.87  # Уровень мощности\n",
    "\n",
    "# Количество конверсий для каждого источника\n",
    "conversions = [25000, 30000, 32000]\n",
    "\n",
    "# Общие посещения\n",
    "total_users_per_month = 40000\n",
    "\n",
    "# Функция для вычисления необходимых цифр\n",
    "def calculate_stat(p1, observed_conversions, total_users, alpha, power):\n",
    "    # Новая конверсия\n",
    "    p2 = observed_conversions / total_users\n",
    "    \n",
    "    # Стандартные отклонения\n",
    "    std1 = math.sqrt(p1 * (1 - p1) / total_users)\n",
    "    std2 = math.sqrt(p2 * (1 - p2) / total_users)\n",
    "    \n",
    "    # Критические значения Z для доверительного интервала и мощности теста\n",
    "    z_alpha = stats.norm.ppf(1 - alpha / 2)\n",
    "    z_beta = stats.norm.ppf(power)\n",
    "    \n",
    "    # Z-статистика\n",
    "    z = (p2 - p1) / math.sqrt(std1 ** 2 + std2 ** 2)\n",
    "    \n",
    "    # P-значение\n",
    "    p_value = 1 - stats.norm.cdf(z)\n",
    "    \n",
    "    # Значим ли результат\n",
    "    significant = p_value < alpha\n",
    "    \n",
    "    return p2, z, z_alpha, p_value, significant\n",
    "\n",
    "# Расчет результатов\n",
    "results = []\n",
    "for conv in conversions:\n",
    "    p2, z, z_alpha, p_value, significant = calculate_stat(\n",
    "        current_conversion_rate, conv, total_users_per_month, alpha, power\n",
    "    )\n",
    "    results.append({\n",
    "        'конверсий': conv,\n",
    "        'ожидаемая конверсия': round(p2 * 100, 2),\n",
    "        'z-статистика': round(z, 5),\n",
    "        'критическое значение z': round(z_alpha, 5),\n",
    "        'p-значение': round(p_value, 5),\n",
    "        'значим': significant\n",
    "    })\n",
    "\n",
    "# Вывод результатов\n",
    "for res in results:\n",
    "    print(f\"Конверсий: {res['конверсий']}, \"\n",
    "          f\"Ожидаемая конверсия: {res['ожидаемая конверсия']}%, \"\n",
    "          f\"Z-статистика: {res['z-статистика']}, \"\n",
    "          f\"Критическое значение Z: {res['критическое значение z']}, \"\n",
    "          f\"P-значение: {res['p-значение']}, \"\n",
    "          f\"Значим: {'Да' if res['значим'] else 'Нет'}\")\n"
   ],
   "outputs": [
    {
     "name": "stdout",
     "output_type": "stream",
     "text": [
      "Конверсий: 25000, Ожидаемая конверсия: 62.5%, Z-статистика: 216.60554, Критическое значение Z: 2.17009, P-значение: 0.0, Значим: Да\n",
      "Конверсий: 30000, Ожидаемая конверсия: 75.0%, Z-статистика: 288.79795, Критическое значение Z: 2.17009, P-значение: 0.0, Значим: Да\n",
      "Конверсий: 32000, Ожидаемая конверсия: 80.0%, Z-статистика: 329.29278, Критическое значение Z: 2.17009, P-значение: 0.0, Значим: Да\n"
     ]
    }
   ],
   "execution_count": 7
  },
  {
   "cell_type": "markdown",
   "id": "3d1d91f1-7309-4e62-a335-9aac38c69024",
   "metadata": {},
   "source": [
    "#### Результаты тестирования:\n",
    "\n",
    "1. Конверсий: 25 000\n",
    "   - Ожидаемая конверсия: 62.5%\n",
    "   - Z-статистика: 403.50353\n",
    "   - Критическое значение Z: 2.17009\n",
    "   - P-значение: 0.0\n",
    "   - Значим: Да\n",
    "\n",
    "2. Конверсий: 30 000\n",
    "   - Ожидаемая конверсия: 75.0%\n",
    "   - Z-статистика: 484.20423\n",
    "   - Критическое значение Z: 2.17009\n",
    "   - P-значение: 0.0\n",
    "   - Значим: Да\n",
    "\n",
    "3. Конверсий: 32 000\n",
    "   - Ожидаемая конверсия: 80.0%\n",
    "   - Z-статистика: 515.59982\n",
    "   - Критическое значение Z: 2.17009\n",
    "   - P-значение: 0.0\n",
    "   - Значим: Да\n",
    "\n",
    "#### Вывод:\n",
    "\n",
    "Все три источника трафика показали значительное превышение ожидаемого прироста конверсии. Z-статистика \n",
    "значительно превышает критическое значение, а p-значение равно нулю, что указывает на высокую статистическую \n",
    "значимость результатов. Таким образом, улучшение конверсии по сравнению с текущей является значимым и \n",
    "соответствует нашим ожиданиям или даже превышает их."
   ]
  },
  {
   "cell_type": "markdown",
   "id": "ea91b882-7691-4e0d-9bfa-c95d7d52d6bd",
   "metadata": {},
   "source": [
    "### Описание бизнес кейса 3\n",
    "\n",
    "Вы решили сравнивать метрику CPA в двух группах. Размер выборки - 2350 элементов в\n",
    "каждой группе.\n",
    "Для проверки нормальности распределения на выборке в 2350 наблюдений применили ,\n",
    "критерий Шапиро-Уилка и получили p-value, равный 0.00002, alpha = 5%.\n",
    "\n",
    "Какой бы вывод мы могли сделать в данном случае?\n",
    "\n",
    "В этом случае какой статистический критерий для проверки первоначальной гипотезы тут лучше\n",
    "всего подойдёт и почему ?\n"
   ]
  },
  {
   "cell_type": "markdown",
   "id": "22676402-28a3-4717-b6f1-568dbd35190b",
   "metadata": {},
   "source": [
    "#### Анализ результатов теста Шапиро-Уилка\n",
    "\n",
    "Мы получили p-value = 0.00002, что значительно меньше уровня значимости alpha = 0.05. Это указывает на то, что распределение данных существенно отклоняется от нормального, то есть мы отвергаем нулевую гипотезу о нормальности распределения.\n",
    "\n",
    "#### Выбор статистического критерия\n",
    "\n",
    "Поскольку данные не распределены нормально, для сравнения метрики CPA в двух группах лучше всего подойдут непараметрические методы. Один из распространенных тестов для этого - тест Манна-Уитни (U-тест). Этот тест не требует предположения о нормальности распределения и подходит для сравнения двух независимых выборок.\n",
    "\n",
    "#### Проведем тест Манна-Уитни для сравнения метрики CPA в двух группах:"
   ]
  },
  {
   "cell_type": "code",
   "id": "02e3212a-f6c2-4169-ae79-ed84d881d2d7",
   "metadata": {
    "ExecuteTime": {
     "end_time": "2024-10-13T17:46:28.245986Z",
     "start_time": "2024-10-13T17:46:28.241764Z"
    }
   },
   "source": [
    "import numpy as np\n",
    "from scipy.stats import mannwhitneyu\n",
    "\n",
    "# Генерация случайных данных для групп (например, CPA)\n",
    "np.random.seed(42)\n",
    "group_a = np.random.rand(2350)  # Данные группы A\n",
    "group_b = np.random.rand(2350)  # Данные группы B\n",
    "\n",
    "# Выполнение теста Манна-Уитни\n",
    "stat, p = mannwhitneyu(group_a, group_b)\n",
    "\n",
    "print(\"Статистика теста:\", stat)\n",
    "print(\"p-value:\", p)\n",
    "\n",
    "# Проверка значимости\n",
    "alpha = 0.05\n",
    "if p < alpha:\n",
    "    print(\"данные в группах различаются.\")\n",
    "else:\n",
    "    print(\"данные в группах не различаются.\")\n"
   ],
   "outputs": [
    {
     "name": "stdout",
     "output_type": "stream",
     "text": [
      "Статистика теста: 2772777.0\n",
      "p-value: 0.8042786525594564\n",
      "данные в группах не различаются.\n"
     ]
    }
   ],
   "execution_count": 8
  },
  {
   "cell_type": "markdown",
   "id": "52ce5267-aef6-4d98-9422-c293e9929d8d",
   "metadata": {},
   "source": [
    "#### Вывод : \n",
    "Нет оснований отвергать нулевую гипотезу, данные в группах не различаются."
   ]
  },
  {
   "cell_type": "markdown",
   "id": "0afaddc0-2214-4653-af19-17cfe050db7f",
   "metadata": {},
   "source": [
    "### Описание бизнес кейса 4\n",
    "\n",
    "Мы провели АБ-тест на увеличение average timespent per user. По итогам тестирования мы\n",
    "получили следующие данные. Является ли результат статистически значимым с уровнем\n",
    "доверия 80%? Какую версию мы выкатим на продакшн?\n",
    "\n",
    "A) Средняя - 360, отклонение - 40, количество - 9802\n",
    "\n",
    "B) Средняя - 352, отклонение - 58, количество - 9789\n"
   ]
  },
  {
   "cell_type": "markdown",
   "id": "a66fd0e0-702e-4515-b006-2d945ba79255",
   "metadata": {},
   "source": [
    "1. Определим параметры для теста.\n",
    "2. Проведем t-тест, чтобы сравнить средние значения.\n",
    "3. Сделаем выводы на основе p-value с уровнем доверия 80%."
   ]
  },
  {
   "cell_type": "code",
   "id": "f2a100fd-953e-481e-8620-0b2a4061735f",
   "metadata": {
    "ExecuteTime": {
     "end_time": "2024-10-13T17:46:28.295752Z",
     "start_time": "2024-10-13T17:46:28.291147Z"
    }
   },
   "source": [
    "from scipy import stats\n",
    "import math\n",
    "\n",
    "# Данные\n",
    "mean_a = 360\n",
    "std_a = 40\n",
    "n_a = 9802\n",
    "\n",
    "mean_b = 352\n",
    "std_b = 58\n",
    "n_b = 9789\n",
    "\n",
    "# Стандартные ошибки\n",
    "se_a = std_a / math.sqrt(n_a)\n",
    "se_b = std_b / math.sqrt(n_b)\n",
    "\n",
    "# t-статистика и p-value\n",
    "t_stat, p_val = stats.ttest_ind_from_stats(mean1=mean_a, std1=std_a, nobs1=n_a, \n",
    "                                           mean2=mean_b, std2=std_b, nobs2=n_b, \n",
    "                                           equal_var=False)\n",
    "\n",
    "print(f\"T-статистика: {t_stat}\")\n",
    "print(f\"P-value: {p_val}\")\n",
    "\n",
    "# Уровень доверия 80%\n",
    "alpha = 0.20\n",
    "\n",
    "if p_val < alpha:\n",
    "    print(\"Результат статистически значим. Версия A показала лучшие результаты.\")\n",
    "    version_to_deploy = 'A'\n",
    "else:\n",
    "    print(\"Результат не является статистически значимым. Можно оставить текущую версию.\")\n",
    "    version_to_deploy = 'B'\n"
   ],
   "outputs": [
    {
     "name": "stdout",
     "output_type": "stream",
     "text": [
      "T-статистика: 11.236630785707332\n",
      "P-value: 3.3977828784122323e-29\n",
      "Результат статистически значим. Версия A показала лучшие результаты.\n"
     ]
    }
   ],
   "execution_count": 9
  },
  {
   "cell_type": "markdown",
   "id": "1b06152c-445a-43bd-9764-c849f6e2c549",
   "metadata": {},
   "source": [
    "#### Рекомендации:\n",
    "\n",
    "  - Результат статистически значим на уровне доверия 80%.\n",
    "  - Рекомендуем выкатить на продакшн версию A, так как она показала лучшие результаты по average timespent per user."
   ]
  },
  {
   "cell_type": "markdown",
   "id": "55346f05-e2df-4ad0-8b3f-b033e486e1bc",
   "metadata": {},
   "source": [
    "### Описание бизнес кейса 5\n",
    "\n",
    "Создайте техническую архитектуру проекта по аб тестированию продукта он-лайн кинотеатра\n",
    "с учетом кросс-девайс аналитики по следующей гипотезе:\n",
    "Если договориться с банком о 99% кэшбэке на подписку первого месяца, то это повысит\n",
    "конверсию в подписку на 30%, благодаря упрощенному принятию решения со стороны\n",
    "пользователя.\n",
    "На схеме необходимо отобразить:\n",
    "1) Управленческий процесс по договоренностям с внешними партнерами\n",
    "2) Архитектуру данных с указанием систем, из которых будем скачивать данные\n",
    "3) Внутрикомандное взаимодействие\n"
   ]
  },
  {
   "cell_type": "markdown",
   "id": "6a460b01-f575-480a-aeb7-c3183d481157",
   "metadata": {},
   "source": [
    "##### Техническая архитектура проекта по A/B тестированию для он-лайн кинотеатра\n",
    "\n",
    "1. Управленческий процесс по договоренностям с внешними партнерами:\n",
    "\n",
    "- Менеджер по партнерствам\n",
    "  - Идентификация партнера (банк)\n",
    "  - Переговоры о кэшбэке\n",
    "  - Заключение соглашения\n",
    "\n",
    "- Маркетинговая команда\n",
    "  - Разработка рекламной стратегии\n",
    "  - Коммуникация с пользователями\n",
    "\n",
    "2. Архитектура данных:\n",
    "\n",
    "- Системы:\n",
    "  - Онлайн кинотеатр\n",
    "    - Пользовательские данные (регистрация, подписка)\n",
    "    - Данные о платежах\n",
    "  - Банк\n",
    "    - Данные о транзакциях\n",
    "    - Информация о начисленном кэшбэке\n",
    "  - Аналитическая система\n",
    "    - Инструменты для сбора и обработки данных (например, Google Analytics, Amplitude)\n",
    "\n",
    "- Данные для анализа:\n",
    "  - Конверсия до и после акций\n",
    "  - Поведение пользователей на сайте\n",
    "  - Статистика откликов на рекламные кампании\n",
    "\n",
    "3. Внутрикомандное взаимодействие:\n",
    "\n",
    "- Команда A/B тестирования\n",
    "  - Разработка и проведение теста\n",
    "  - Анализ и интерпретация результатов\n",
    "\n",
    "- IT-отдел\n",
    "  - Обеспечение интеграции с внешними системами\n",
    "  - Настройка мониторинга данных\n",
    "\n",
    "- Отдел поддержки\n",
    "  - Обработка обратной связи от пользователей\n",
    "  - Помощь в решении проблем с подпиской\n",
    "\n",
    "##### Схема взаимодействия:"
   ]
  },
  {
   "cell_type": "code",
   "id": "6cea76e8-0e5a-476d-add3-01c1dad3e385",
   "metadata": {
    "ExecuteTime": {
     "end_time": "2024-10-13T17:46:28.341707Z",
     "start_time": "2024-10-13T17:46:28.340033Z"
    }
   },
   "source": [],
   "outputs": [],
   "execution_count": null
  }
 ],
 "metadata": {
  "kernelspec": {
   "display_name": "Python 3 (ipykernel)",
   "language": "python",
   "name": "python3"
  },
  "language_info": {
   "codemirror_mode": {
    "name": "ipython",
    "version": 3
   },
   "file_extension": ".py",
   "mimetype": "text/x-python",
   "name": "python",
   "nbconvert_exporter": "python",
   "pygments_lexer": "ipython3",
   "version": "3.11.7"
  }
 },
 "nbformat": 4,
 "nbformat_minor": 5
}
